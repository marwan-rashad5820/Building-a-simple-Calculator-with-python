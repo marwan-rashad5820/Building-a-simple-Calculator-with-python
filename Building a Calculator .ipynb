{
 "cells": [
  {
   "cell_type": "code",
   "execution_count": null,
   "id": "291ba008-11e3-48c5-92f5-1389b810d18c",
   "metadata": {},
   "outputs": [],
   "source": [
    "#Building a Calculator "
   ]
  },
  {
   "cell_type": "code",
   "execution_count": null,
   "id": "aa2865fd-f163-4183-abf5-c7116b9a4b3e",
   "metadata": {},
   "outputs": [],
   "source": [
    "#defining number one and number two\n",
    "number1 =float(input(\"Enter your first number : \"))\n",
    "number2 =float(input(\"Enter your second number : \"))\n",
    "#choise the operation from 5 operations\n",
    "operation =input(\"enter your operation you want to need \\n 1.add(+) \\n 2.subtraction(-) \\n 3.multiplication(*) \\n 4.division(/) \\n 5.floor division(//){ 5/2 = 2} \\n >> \")\n",
    "#define result a function and in this function the operation implemented \n",
    "\n",
    "def result():\n",
    "    if operation == \"1\":\n",
    "            print(f\"the result ={number1} + {number2}\")\n",
    "    elif operation == \"2\":\n",
    "            print(number1 - number2)\n",
    "    elif operation == \"3\":\n",
    "            print(number1 * number2)\n",
    "    elif operation == \"4\":\n",
    "        if number2 !=0 :   \n",
    "               print(number1 / number2)\n",
    "        elif number2 ==0:\n",
    "                print(\"Cannot divide by zero!\")\n",
    "    elif operation == \"5\":\n",
    "             print(number1 // number2)\n",
    "    \n",
    "    else :\n",
    "            print(\"Invalid input\")\n",
    "#output function (result)\n",
    "result()"
   ]
  }
 ],
 "metadata": {
  "kernelspec": {
   "display_name": "Python 3 (ipykernel)",
   "language": "python",
   "name": "python3"
  },
  "language_info": {
   "codemirror_mode": {
    "name": "ipython",
    "version": 3
   },
   "file_extension": ".py",
   "mimetype": "text/x-python",
   "name": "python",
   "nbconvert_exporter": "python",
   "pygments_lexer": "ipython3",
   "version": "3.12.4"
  }
 },
 "nbformat": 4,
 "nbformat_minor": 5
}
